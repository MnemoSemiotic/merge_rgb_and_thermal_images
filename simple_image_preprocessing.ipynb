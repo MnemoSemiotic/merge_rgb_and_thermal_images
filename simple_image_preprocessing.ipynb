{
 "cells": [
  {
   "cell_type": "code",
   "execution_count": 2,
   "metadata": {},
   "outputs": [],
   "source": [
    "import numpy as np\n",
    "import matplotlib.pyplot as plt\n",
    "import seaborn as sns\n",
    "from scipy import stats\n",
    "\n",
    "from os import listdir, getcwd\n",
    "\n",
    "from skimage.io import imread, imsave\n",
    "from skimage.color import rgb2gray, rgb2hsv, hsv2rgb, rgb2lab, lab2rgb\n",
    "from skimage import img_as_ubyte\n",
    "\n",
    "import warnings\n",
    "warnings.filterwarnings('ignore')\n",
    "\n",
    "# import utility functions\n",
    "from merging_utilities.img_utils import *\n",
    "from merging_utilities.os_utils import *\n",
    "from merging_utilities.plotting import *\n",
    "from merging_utilities.merging import *"
   ]
  },
  {
   "cell_type": "code",
   "execution_count": null,
   "metadata": {},
   "outputs": [],
   "source": []
  }
 ],
 "metadata": {
  "kernelspec": {
   "display_name": "Python 3",
   "language": "python",
   "name": "python3"
  },
  "language_info": {
   "codemirror_mode": {
    "name": "ipython",
    "version": 3
   },
   "file_extension": ".py",
   "mimetype": "text/x-python",
   "name": "python",
   "nbconvert_exporter": "python",
   "pygments_lexer": "ipython3",
   "version": "3.6.8"
  }
 },
 "nbformat": 4,
 "nbformat_minor": 2
}
